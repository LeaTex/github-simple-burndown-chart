{
 "cells": [
  {
   "cell_type": "code",
   "execution_count": null,
   "id": "335a4d63",
   "metadata": {},
   "outputs": [],
   "source": [
    "from github import Github\n",
    "from datetime import datetime, timedelta\n",
    "import matplotlib.pyplot as plt\n",
    "import matplotlib.ticker as tck "
   ]
  },
  {
   "cell_type": "code",
   "execution_count": null,
   "id": "2d85ff2b",
   "metadata": {},
   "outputs": [],
   "source": [
    "def get_sp_from_issue(issue):\n",
    "    return sum([int(label.name[:-3]) for label in issue.get_labels() if label.name.endswith(\" SP\")])"
   ]
  },
  {
   "cell_type": "code",
   "execution_count": null,
   "id": "f2388029",
   "metadata": {},
   "outputs": [],
   "source": [
    "#g = Github(\"ghp_your_access_token_here\")\n",
    "g = Github()"
   ]
  },
  {
   "cell_type": "code",
   "execution_count": null,
   "id": "ef1e448b",
   "metadata": {},
   "outputs": [],
   "source": [
    "repo = g.get_repo(\"LeaTex/github-simple-burndown-chart\")"
   ]
  },
  {
   "cell_type": "code",
   "execution_count": null,
   "id": "0633790b",
   "metadata": {},
   "outputs": [],
   "source": [
    "sprint_milestone = repo.get_milestone(1)\n",
    "print(sprint_milestone.title)"
   ]
  },
  {
   "cell_type": "code",
   "execution_count": null,
   "id": "fed3eb03",
   "metadata": {},
   "outputs": [],
   "source": [
    "# sprint duration\n",
    "sprint_days = 7\n",
    "\n",
    "sprint_end_date = sprint_milestone.due_on\n",
    "sprint_start_date = sprint_end_date - timedelta(days=sprint_days)\n",
    "print(\"from {} to {}\".format(str(sprint_start_date.date()), str(sprint_end_date.date())))"
   ]
  },
  {
   "cell_type": "code",
   "execution_count": null,
   "id": "c279c6b1",
   "metadata": {},
   "outputs": [],
   "source": [
    "sprint_issues = repo.get_issues(milestone=sprint_milestone)\n",
    "print(\"issues\", sprint_issues.totalCount)"
   ]
  },
  {
   "cell_type": "code",
   "execution_count": null,
   "id": "3c3ccdb7",
   "metadata": {},
   "outputs": [],
   "source": [
    "sprint_sps = sum([get_sp_from_issue(issue) for issue in sprint_issues])\n",
    "print(\"story points del sprint:\", sprint_sps)"
   ]
  },
  {
   "cell_type": "code",
   "execution_count": null,
   "id": "13dad139",
   "metadata": {},
   "outputs": [],
   "source": [
    "sprint_dates = [str((sprint_start_date + timedelta(days=x)).date()) for x in range(sprint_days+1)]\n",
    "print(sprint_dates)"
   ]
  },
  {
   "cell_type": "code",
   "execution_count": null,
   "id": "5081a90a",
   "metadata": {},
   "outputs": [],
   "source": [
    "sp_per_day = round(sprint_sps / sprint_days, 2)\n",
    "ideal_burndown = [round(sprint_sps - (sp_per_day * d), 2) for d in range(sprint_days+1)]"
   ]
  },
  {
   "cell_type": "code",
   "execution_count": null,
   "id": "79ccd679",
   "metadata": {},
   "outputs": [],
   "source": [
    "actual_burndown = []\n",
    "burned = 0\n",
    "for date in sprint_dates:\n",
    "    for issue in sprint_issues:\n",
    "        if issue.closed_at and str(issue.closed_at.date()) == date:\n",
    "            burned += get_sp_from_issue(issue)\n",
    "    actual_burndown.append(sprint_sps-burned)\n",
    "#actual_burndown = [18,18,15,15,7,2,2,0]"
   ]
  },
  {
   "cell_type": "code",
   "execution_count": null,
   "id": "e56d40e1",
   "metadata": {
    "scrolled": true
   },
   "outputs": [],
   "source": [
    "plt.plot(sprint_dates, ideal_burndown, 'o-.', label='ideal')\n",
    "plt.plot(range(len(actual_burndown)), actual_burndown, 'd-', label='quemados')\n",
    "plt.title(sprint_milestone.title + ' - Burndown Chart')\n",
    "\n",
    "plt.ylabel('SPs')\n",
    "plt.gca().yaxis.set_major_locator(tck.MultipleLocator(1))\n",
    "\n",
    "plt.axis([0, sprint_days, 0, sprint_sps + 1])\n",
    "plt.xlabel('Dates')\n",
    "plt.xticks(fontsize=8, rotation=30)\n",
    "\n",
    "plt.legend()\n",
    "plt.grid(linestyle='--', linewidth=0.5, alpha=0.5)\n",
    "plt.grid(True)\n",
    "plt.show()"
   ]
  }
 ],
 "metadata": {
  "kernelspec": {
   "display_name": "Python 3",
   "language": "python",
   "name": "python3"
  },
  "language_info": {
   "codemirror_mode": {
    "name": "ipython",
    "version": 3
   },
   "file_extension": ".py",
   "mimetype": "text/x-python",
   "name": "python",
   "nbconvert_exporter": "python",
   "pygments_lexer": "ipython3",
   "version": "3.8.9"
  }
 },
 "nbformat": 4,
 "nbformat_minor": 5
}